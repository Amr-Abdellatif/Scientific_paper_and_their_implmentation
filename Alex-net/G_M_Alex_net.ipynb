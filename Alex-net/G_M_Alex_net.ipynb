{
  "nbformat": 4,
  "nbformat_minor": 0,
  "metadata": {
    "colab": {
      "provenance": [],
      "collapsed_sections": [
        "jPsuAUs0OOmJ",
        "HI_62w4OP7mW",
        "vmjPssWmTosJ",
        "q5VVL1tzXOxM",
        "qsizQblMcqVE",
        "lFp3zddfdhcc",
        "SOciMxcidg1j"
      ]
    },
    "kernelspec": {
      "name": "python3",
      "display_name": "Python 3"
    },
    "language_info": {
      "name": "python"
    },
    "accelerator": "GPU",
    "gpuClass": "standard"
  },
  "cells": [
    {
      "cell_type": "markdown",
      "source": [
        "## 1. AlexNet Implmentation\n",
        "\n",
        "### We start by Importing the needed libraries"
      ],
      "metadata": {
        "id": "ETlbnMbnNKUY"
      }
    },
    {
      "cell_type": "code",
      "source": [
        "import keras\n",
        "from keras.models import Sequential\n",
        "from keras.layers import Dense , Activation , Dropout , Flatten , Conv2D , MaxPooling2D ,BatchNormalization\n",
        "import tensorflow as tf\n",
        "#from tensorflow.keras.layers import BatchNormalization\n",
        "#tf.keras.layers.BatchNormalization()\n",
        "#from keras.layers import Dense\n",
        "import numpy as np\n",
        "from keras.engine import input_layer\n",
        "\n",
        "'''\n",
        "we randomly split a dataset into training and testing sets,\n",
        "setting the random seed ensures that the same split is used every time the experiment is run.\n",
        "This can be useful for comparing the performance of different algorithms or hyperparameters. \n",
        "'''\n",
        "np.random.seed(1000)"
      ],
      "metadata": {
        "id": "gOMBhYaoNGM8"
      },
      "execution_count": 1,
      "outputs": []
    },
    {
      "cell_type": "markdown",
      "source": [
        "## 2. making the architecture of the neural network stated in the paper\n",
        "\n",
        "### The architecture components are as follows :\n",
        "\n",
        "5 convolution layers and the 3 fully connected layers and then the output layer\n",
        "\n"
      ],
      "metadata": {
        "id": "fhwtj1tyNZBQ"
      }
    },
    {
      "cell_type": "code",
      "source": [
        "\n",
        "#instantiantion\n",
        "AlexNet = Sequential()\n",
        "\n",
        "# 1st Convolution layer\n",
        "AlexNet.add(Conv2D( filters=96, input_shape=(32,32,3) , kernel_size=(11,11) , strides=(4,4) , padding=\"same\"))\n",
        "AlexNet.add(BatchNormalization())\n",
        "AlexNet.add(Activation(\"relu\"))\n",
        "AlexNet.add(MaxPooling2D(pool_size=(2,2) , strides=(2,2) , padding=\"same\"))\n",
        "\n",
        "# 2nd coonvolution layer\n",
        "AlexNet.add(Conv2D(filters=256,kernel_size=(5,5),strides=(1,1),padding=\"same\"))\n",
        "AlexNet.add(BatchNormalization())\n",
        "AlexNet.add(Activation(\"relu\"))\n",
        "AlexNet.add(MaxPooling2D(pool_size=(2,2),strides=(2,2),padding=\"same\"))\n",
        "\n",
        "#3rd convolution layer\n",
        "AlexNet.add(Conv2D(filters=384,kernel_size=(3,3),strides=(1,1),padding=\"same\"))\n",
        "AlexNet.add(BatchNormalization())\n",
        "AlexNet.add(Activation(\"relu\"))\n",
        "\n",
        "# 4th convolution layer\n",
        "AlexNet.add(Conv2D(filters=384,kernel_size=(3,3),strides=(1,1),padding=\"same\"))\n",
        "AlexNet.add(BatchNormalization())\n",
        "AlexNet.add(Activation(\"relu\"))\n",
        "\n",
        "#5th convolution layer\n",
        "AlexNet.add(Conv2D(filters=256,kernel_size=(3,3),strides=(1,1),padding=\"same\"))\n",
        "AlexNet.add(BatchNormalization())\n",
        "AlexNet.add(Activation(\"relu\"))\n",
        "AlexNet.add(MaxPooling2D(pool_size=(2,2),strides=(2,2),padding=\"same\"))\n",
        "\n",
        "\n",
        "#passing it to fully connected layer \n",
        "\n",
        "AlexNet.add(Flatten())\n",
        "\n",
        "#1st Fully connected layer\n",
        "\n",
        "AlexNet.add(Dense(4096,input_shape=(32,32,3)))\n",
        "AlexNet.add(BatchNormalization())\n",
        "AlexNet.add(Activation(\"relu\"))\n",
        "#adding dropout to reduce over fitting\n",
        "AlexNet.add(Dropout(0.4))\n",
        "\n",
        "\n",
        "#2nd fully connected layer\n",
        "\n",
        "AlexNet.add(Dense(4096))\n",
        "AlexNet.add(BatchNormalization())\n",
        "AlexNet.add(Activation(\"relu\"))\n",
        "#adding dropout to reduce over fitting\n",
        "AlexNet.add(Dropout(0.4))\n",
        "\n",
        "\n",
        "#3rd fully connected layer\n",
        "\n",
        "AlexNet.add(Dense(1000))\n",
        "AlexNet.add(BatchNormalization())\n",
        "AlexNet.add(Activation(\"relu\"))\n",
        "#dropout\n",
        "AlexNet.add(Dropout(0.4))\n",
        "\n",
        "#output layer\n",
        "\n",
        "AlexNet.add(Dense(10))\n",
        "AlexNet.add(BatchNormalization())\n",
        "AlexNet.add(Activation(\"softmax\"))\n",
        "\n",
        "AlexNet.summary()"
      ],
      "metadata": {
        "id": "rEZzxyBCJFu1",
        "colab": {
          "base_uri": "https://localhost:8080/"
        },
        "outputId": "c0ad3af3-728e-4901-9460-75313dab8fe6",
        "collapsed": true
      },
      "execution_count": 29,
      "outputs": [
        {
          "output_type": "stream",
          "name": "stdout",
          "text": [
            "Model: \"sequential_1\"\n",
            "_________________________________________________________________\n",
            " Layer (type)                Output Shape              Param #   \n",
            "=================================================================\n",
            " conv2d_5 (Conv2D)           (None, 8, 8, 96)          34944     \n",
            "                                                                 \n",
            " batch_normalization_9 (Batc  (None, 8, 8, 96)         384       \n",
            " hNormalization)                                                 \n",
            "                                                                 \n",
            " activation_9 (Activation)   (None, 8, 8, 96)          0         \n",
            "                                                                 \n",
            " max_pooling2d_3 (MaxPooling  (None, 4, 4, 96)         0         \n",
            " 2D)                                                             \n",
            "                                                                 \n",
            " conv2d_6 (Conv2D)           (None, 4, 4, 256)         614656    \n",
            "                                                                 \n",
            " batch_normalization_10 (Bat  (None, 4, 4, 256)        1024      \n",
            " chNormalization)                                                \n",
            "                                                                 \n",
            " activation_10 (Activation)  (None, 4, 4, 256)         0         \n",
            "                                                                 \n",
            " max_pooling2d_4 (MaxPooling  (None, 2, 2, 256)        0         \n",
            " 2D)                                                             \n",
            "                                                                 \n",
            " conv2d_7 (Conv2D)           (None, 2, 2, 384)         885120    \n",
            "                                                                 \n",
            " batch_normalization_11 (Bat  (None, 2, 2, 384)        1536      \n",
            " chNormalization)                                                \n",
            "                                                                 \n",
            " activation_11 (Activation)  (None, 2, 2, 384)         0         \n",
            "                                                                 \n",
            " conv2d_8 (Conv2D)           (None, 2, 2, 384)         1327488   \n",
            "                                                                 \n",
            " batch_normalization_12 (Bat  (None, 2, 2, 384)        1536      \n",
            " chNormalization)                                                \n",
            "                                                                 \n",
            " activation_12 (Activation)  (None, 2, 2, 384)         0         \n",
            "                                                                 \n",
            " conv2d_9 (Conv2D)           (None, 2, 2, 256)         884992    \n",
            "                                                                 \n",
            " batch_normalization_13 (Bat  (None, 2, 2, 256)        1024      \n",
            " chNormalization)                                                \n",
            "                                                                 \n",
            " activation_13 (Activation)  (None, 2, 2, 256)         0         \n",
            "                                                                 \n",
            " max_pooling2d_5 (MaxPooling  (None, 1, 1, 256)        0         \n",
            " 2D)                                                             \n",
            "                                                                 \n",
            " flatten_1 (Flatten)         (None, 256)               0         \n",
            "                                                                 \n",
            " dense_4 (Dense)             (None, 4096)              1052672   \n",
            "                                                                 \n",
            " batch_normalization_14 (Bat  (None, 4096)             16384     \n",
            " chNormalization)                                                \n",
            "                                                                 \n",
            " activation_14 (Activation)  (None, 4096)              0         \n",
            "                                                                 \n",
            " dropout_3 (Dropout)         (None, 4096)              0         \n",
            "                                                                 \n",
            " dense_5 (Dense)             (None, 4096)              16781312  \n",
            "                                                                 \n",
            " batch_normalization_15 (Bat  (None, 4096)             16384     \n",
            " chNormalization)                                                \n",
            "                                                                 \n",
            " activation_15 (Activation)  (None, 4096)              0         \n",
            "                                                                 \n",
            " dropout_4 (Dropout)         (None, 4096)              0         \n",
            "                                                                 \n",
            " dense_6 (Dense)             (None, 1000)              4097000   \n",
            "                                                                 \n",
            " batch_normalization_16 (Bat  (None, 1000)             4000      \n",
            " chNormalization)                                                \n",
            "                                                                 \n",
            " activation_16 (Activation)  (None, 1000)              0         \n",
            "                                                                 \n",
            " dropout_5 (Dropout)         (None, 1000)              0         \n",
            "                                                                 \n",
            " dense_7 (Dense)             (None, 10)                10010     \n",
            "                                                                 \n",
            " batch_normalization_17 (Bat  (None, 10)               40        \n",
            " chNormalization)                                                \n",
            "                                                                 \n",
            " activation_17 (Activation)  (None, 10)                0         \n",
            "                                                                 \n",
            "=================================================================\n",
            "Total params: 25,730,506\n",
            "Trainable params: 25,709,350\n",
            "Non-trainable params: 21,156\n",
            "_________________________________________________________________\n"
          ]
        }
      ]
    },
    {
      "cell_type": "markdown",
      "source": [
        "## 3. Compiling \n",
        "In Keras, the compile() method is used to configure the learning process of a model. This method takes three important parameters: optimizer, loss function, and metrics.\n",
        "\n",
        "Optimizer: The optimizer is used to update the weights of the model during training. Some common optimizers in Keras include Stochastic Gradient Descent (SGD), Adam, RMSprop, and Adagrad.\n",
        "\n",
        "Loss function: The loss function is used to compute the error between the predicted output and the actual output. The goal of the optimizer is to minimize this error. Common loss functions in Keras include mean squared error (MSE), categorical cross-entropy, and binary cross-entropy.\n",
        "\n",
        "Metrics: Metrics are used to evaluate the performance of the model. These are typically different from the loss function, as they provide additional information about the model's performance, such as accuracy or precision."
      ],
      "metadata": {
        "id": "jPsuAUs0OOmJ"
      }
    },
    {
      "cell_type": "code",
      "source": [
        "# compiling the model\n",
        "AlexNet.compile(loss=keras.losses.categorical_crossentropy,optimizer='adam',metrics=['accuracy'])"
      ],
      "metadata": {
        "id": "VHpM1jOnKqiE"
      },
      "execution_count": 3,
      "outputs": []
    },
    {
      "cell_type": "markdown",
      "source": [
        "## 4. Now let's import the Data to apply our AlexNet architecture "
      ],
      "metadata": {
        "id": "HI_62w4OP7mW"
      }
    },
    {
      "cell_type": "code",
      "source": [
        "from keras.datasets import cifar10\n",
        "(x_train , y_train) , (x_test , y_test)  = cifar10.load_data()"
      ],
      "metadata": {
        "id": "2QUquYTkP0eF",
        "colab": {
          "base_uri": "https://localhost:8080/"
        },
        "outputId": "9f307d7f-5e79-41c4-98fc-6f6834b7ff11"
      },
      "execution_count": 4,
      "outputs": [
        {
          "output_type": "stream",
          "name": "stdout",
          "text": [
            "Downloading data from https://www.cs.toronto.edu/~kriz/cifar-10-python.tar.gz\n",
            "170498071/170498071 [==============================] - 4s 0us/step\n"
          ]
        }
      ]
    },
    {
      "cell_type": "markdown",
      "source": [
        "## 5. Train test split"
      ],
      "metadata": {
        "id": "vmjPssWmTosJ"
      }
    },
    {
      "cell_type": "code",
      "source": [
        "from sklearn.model_selection import train_test_split\n",
        "x_train,x_val,y_train,y_val = train_test_split(x_train,y_train,test_size=0.3)\n",
        "\n",
        "#Dimensions of the cifar 10\n",
        "print(x_train.shape,y_train.shape)\n",
        "print(x_val.shape,y_val.shape)\n",
        "print(x_test.shape,y_test.shape)\n",
        "\n",
        "'''\n",
        "After showing the shape of the y output values we find that\n",
        "the y values should be categorical values as we are trying to categorize\n",
        "the output of 10 classes which are cifar 10 data\n",
        "'''"
      ],
      "metadata": {
        "colab": {
          "base_uri": "https://localhost:8080/",
          "height": 0
        },
        "id": "yJLuurNsQuFE",
        "outputId": "94622cc3-8131-482e-bf34-84f9476d19c7"
      },
      "execution_count": 5,
      "outputs": [
        {
          "output_type": "stream",
          "name": "stdout",
          "text": [
            "(35000, 32, 32, 3) (35000, 1)\n",
            "(15000, 32, 32, 3) (15000, 1)\n",
            "(10000, 32, 32, 3) (10000, 1)\n"
          ]
        },
        {
          "output_type": "execute_result",
          "data": {
            "text/plain": [
              "'\\nAfter showing the shape of the y output values we find that\\nthe y values should be categorical values as we are trying to categorize\\nthe output of 10 classes which are cifar 10 data\\n'"
            ],
            "application/vnd.google.colaboratory.intrinsic+json": {
              "type": "string"
            }
          },
          "metadata": {},
          "execution_count": 5
        }
      ]
    },
    {
      "cell_type": "markdown",
      "source": [
        "## 6. Onehot Encoding"
      ],
      "metadata": {
        "id": "q5VVL1tzXOxM"
      }
    },
    {
      "cell_type": "code",
      "source": [
        "from sklearn.utils.multiclass import unique_labels\n",
        "from keras.utils.np_utils import to_categorical\n",
        "\n",
        "y_train = to_categorical(y_train)\n",
        "y_val = to_categorical(y_val)\n",
        "y_test = to_categorical(y_test)\n",
        "\n",
        "print(x_train.shape,y_train.shape)\n",
        "print(x_val.shape,y_val.shape)\n",
        "print(x_test.shape,y_test.shape)\n",
        "\n",
        "'''\n",
        "Now we have fixed the y output issue as now it's 10 classes \n",
        "'''"
      ],
      "metadata": {
        "id": "w8XwsHQdUB_r",
        "colab": {
          "base_uri": "https://localhost:8080/",
          "height": 0
        },
        "outputId": "5ac464f8-b30b-4822-8d7a-7e3c9faf4f27"
      },
      "execution_count": 6,
      "outputs": [
        {
          "output_type": "stream",
          "name": "stdout",
          "text": [
            "(35000, 32, 32, 3) (35000, 10)\n",
            "(15000, 32, 32, 3) (15000, 10)\n",
            "(10000, 32, 32, 3) (10000, 10)\n"
          ]
        },
        {
          "output_type": "execute_result",
          "data": {
            "text/plain": [
              "\"\\nNow we have fixed the y output issue as now it's 10 classes \\n\""
            ],
            "application/vnd.google.colaboratory.intrinsic+json": {
              "type": "string"
            }
          },
          "metadata": {},
          "execution_count": 6
        }
      ]
    },
    {
      "cell_type": "markdown",
      "source": [
        "## 7. Now it's time for Data Augmentation\n",
        "\n",
        "data augmentation is used to increase data to aviod overfiting\n"
      ],
      "metadata": {
        "id": "qsizQblMcqVE"
      }
    },
    {
      "cell_type": "code",
      "source": [
        "from keras.preprocessing.image import ImageDataGenerator\n",
        "\n",
        "train_generator = ImageDataGenerator (rotation_range=2,horizontal_flip=True,zoom_range=0.1)\n",
        "val_generator = ImageDataGenerator (rotation_range=2,horizontal_flip=True,zoom_range=0.1)\n",
        "test_generator = ImageDataGenerator (rotation_range=2,horizontal_flip=True,zoom_range=0.1)\n",
        "\n",
        "'''\n",
        "fitting the data below\n",
        "'''\n",
        "\n",
        "train_generator.fit(x_train)\n",
        "val_generator.fit(x_val)\n",
        "test_generator.fit(x_test)"
      ],
      "metadata": {
        "collapsed": true,
        "id": "PqVyUSjrXlk6"
      },
      "execution_count": 7,
      "outputs": []
    },
    {
      "cell_type": "markdown",
      "source": [
        "## 8. Learning rate\n",
        "\n",
        "in the learning rate we will use dynamic learning rate in which we will wait 3 epochs if there's no improvement the learning rate will change by a given value\n",
        "\n",
        "\n"
      ],
      "metadata": {
        "id": "lFp3zddfdhcc"
      }
    },
    {
      "cell_type": "code",
      "source": [
        "'''\n",
        "ReduceLROnPlateau is a callback function in Keras,\n",
        "a popular deep learning library for Python,\n",
        "that is used to reduce the learning rate of the optimizer when a metric has stopped improving.\n",
        "The purpose of this function is to help the model converge more quickly and accurately by gradually reducing\n",
        "the step size of the optimizer during training.\n",
        "'''\n",
        "\n",
        "from keras.callbacks import ReduceLROnPlateau\n",
        "lrr= ReduceLROnPlateau ( monitor='val_acc' , factor=0.1 , patience=3 , min_lr=1e-5 )\n",
        "\n",
        "'''\n",
        "1- monitor: The metric to monitor for improvement. In this case, val_acc is being monitored, which refers to the validation accuracy.\n",
        "\n",
        "2- factor: The factor by which to reduce the learning rate when the metric stops improving. In this case, the learning rate will be reduced by a factor of 0.1.\n",
        "\n",
        "3- patience: The number of epochs with no improvement after which the learning rate will be reduced. In this case, if the validation accuracy does not improve for 3 epochs, the learning rate will be reduced.\n",
        "\n",
        "4- min_lr: The minimum learning rate allowed. In this case, the learning rate will not be allowed to go below 1e-5.\n",
        "'''"
      ],
      "metadata": {
        "colab": {
          "base_uri": "https://localhost:8080/",
          "height": 0
        },
        "id": "8F9LZlFXcgT2",
        "outputId": "b9fde386-53cb-4bf6-c69b-5020c34acca5"
      },
      "execution_count": 8,
      "outputs": [
        {
          "output_type": "execute_result",
          "data": {
            "text/plain": [
              "'\\n1- monitor: The metric to monitor for improvement. In this case, val_acc is being monitored, which refers to the validation accuracy.\\n\\n2- factor: The factor by which to reduce the learning rate when the metric stops improving. In this case, the learning rate will be reduced by a factor of 0.1.\\n\\n3- patience: The number of epochs with no improvement after which the learning rate will be reduced. In this case, if the validation accuracy does not improve for 3 epochs, the learning rate will be reduced.\\n\\n4- min_lr: The minimum learning rate allowed. In this case, the learning rate will not be allowed to go below 1e-5.\\n'"
            ],
            "application/vnd.google.colaboratory.intrinsic+json": {
              "type": "string"
            }
          },
          "metadata": {},
          "execution_count": 8
        }
      ]
    },
    {
      "cell_type": "markdown",
      "source": [
        "## 9. Defining the parameters\n"
      ],
      "metadata": {
        "id": "SOciMxcidg1j"
      }
    },
    {
      "cell_type": "code",
      "source": [
        "# parameters\n",
        "batch_size = 100\n",
        "epochs = 5\n",
        "learn_rate = 0.001\n"
      ],
      "metadata": {
        "id": "AFXYuOweg5RQ"
      },
      "execution_count": 9,
      "outputs": []
    },
    {
      "cell_type": "markdown",
      "source": [
        "## Training the Model"
      ],
      "metadata": {
        "id": "Z4zOcixBhTAW"
      }
    },
    {
      "cell_type": "code",
      "source": [
        "AlexNet.fit(train_generator.flow(x_train,y_train,batch_size=batch_size),\n",
        "                      epochs=epochs,\n",
        "                      steps_per_epoch=x_train.shape[0]/batch_size,\n",
        "                      validation_data=val_generator.flow(x_val,y_val,batch_size=batch_size),\n",
        "                      validation_steps = 250,\n",
        "                      callbacks = [lrr],\n",
        "                      verbose=1)"
      ],
      "metadata": {
        "colab": {
          "base_uri": "https://localhost:8080/"
        },
        "id": "mSP56T63g5Tu",
        "outputId": "23368a82-56e4-47a3-aabb-1ed930f14146"
      },
      "execution_count": 10,
      "outputs": [
        {
          "output_type": "stream",
          "name": "stdout",
          "text": [
            "Epoch 1/5\n",
            "350/350 [==============================] - ETA: 0s - loss: 1.6463 - accuracy: 0.4105"
          ]
        },
        {
          "output_type": "stream",
          "name": "stderr",
          "text": [
            "WARNING:tensorflow:Your input ran out of data; interrupting training. Make sure that your dataset or generator can generate at least `steps_per_epoch * epochs` batches (in this case, 250 batches). You may need to use the repeat() function when building your dataset.\n",
            "WARNING:tensorflow:Learning rate reduction is conditioned on metric `val_acc` which is not available. Available metrics are: loss,accuracy,val_loss,val_accuracy,lr\n"
          ]
        },
        {
          "output_type": "stream",
          "name": "stdout",
          "text": [
            "\b\b\b\b\b\b\b\b\b\b\b\b\b\b\b\b\b\b\b\b\b\b\b\b\b\b\b\b\b\b\b\b\b\b\b\b\b\b\b\b\b\b\b\b\b\b\b\b\b\b\b\b\b\b\b\b\b\b\b\b\b\b\b\b\b\b\b\b\b\b\b\b\b\b\b\b\b\b\b\b\b\b\b\b\r350/350 [==============================] - 47s 77ms/step - loss: 1.6463 - accuracy: 0.4105 - val_loss: 2.3598 - val_accuracy: 0.2259 - lr: 0.0010\n",
            "Epoch 2/5\n",
            "350/350 [==============================] - ETA: 0s - loss: 1.3989 - accuracy: 0.5119"
          ]
        },
        {
          "output_type": "stream",
          "name": "stderr",
          "text": [
            "WARNING:tensorflow:Learning rate reduction is conditioned on metric `val_acc` which is not available. Available metrics are: loss,accuracy,lr\n"
          ]
        },
        {
          "output_type": "stream",
          "name": "stdout",
          "text": [
            "\b\b\b\b\b\b\b\b\b\b\b\b\b\b\b\b\b\b\b\b\b\b\b\b\b\b\b\b\b\b\b\b\b\b\b\b\b\b\b\b\b\b\b\b\b\b\b\b\b\b\b\b\b\b\b\b\b\b\b\b\b\b\b\b\b\b\b\b\b\b\b\b\b\b\b\b\b\b\b\b\b\b\b\b\r350/350 [==============================] - 19s 54ms/step - loss: 1.3989 - accuracy: 0.5119 - lr: 0.0010\n",
            "Epoch 3/5\n",
            "349/350 [============================>.] - ETA: 0s - loss: 1.2864 - accuracy: 0.5530"
          ]
        },
        {
          "output_type": "stream",
          "name": "stderr",
          "text": [
            "WARNING:tensorflow:Learning rate reduction is conditioned on metric `val_acc` which is not available. Available metrics are: loss,accuracy,lr\n"
          ]
        },
        {
          "output_type": "stream",
          "name": "stdout",
          "text": [
            "\b\b\b\b\b\b\b\b\b\b\b\b\b\b\b\b\b\b\b\b\b\b\b\b\b\b\b\b\b\b\b\b\b\b\b\b\b\b\b\b\b\b\b\b\b\b\b\b\b\b\b\b\b\b\b\b\b\b\b\b\b\b\b\b\b\b\b\b\b\b\b\b\b\b\b\b\b\b\b\b\b\b\b\b\r350/350 [==============================] - 19s 56ms/step - loss: 1.2859 - accuracy: 0.5532 - lr: 0.0010\n",
            "Epoch 4/5\n",
            "350/350 [==============================] - ETA: 0s - loss: 1.1980 - accuracy: 0.5837"
          ]
        },
        {
          "output_type": "stream",
          "name": "stderr",
          "text": [
            "WARNING:tensorflow:Learning rate reduction is conditioned on metric `val_acc` which is not available. Available metrics are: loss,accuracy,lr\n"
          ]
        },
        {
          "output_type": "stream",
          "name": "stdout",
          "text": [
            "\b\b\b\b\b\b\b\b\b\b\b\b\b\b\b\b\b\b\b\b\b\b\b\b\b\b\b\b\b\b\b\b\b\b\b\b\b\b\b\b\b\b\b\b\b\b\b\b\b\b\b\b\b\b\b\b\b\b\b\b\b\b\b\b\b\b\b\b\b\b\b\b\b\b\b\b\b\b\b\b\b\b\b\b\r350/350 [==============================] - 20s 57ms/step - loss: 1.1980 - accuracy: 0.5837 - lr: 0.0010\n",
            "Epoch 5/5\n",
            "350/350 [==============================] - ETA: 0s - loss: 1.1216 - accuracy: 0.6144"
          ]
        },
        {
          "output_type": "stream",
          "name": "stderr",
          "text": [
            "WARNING:tensorflow:Learning rate reduction is conditioned on metric `val_acc` which is not available. Available metrics are: loss,accuracy,lr\n"
          ]
        },
        {
          "output_type": "stream",
          "name": "stdout",
          "text": [
            "\b\b\b\b\b\b\b\b\b\b\b\b\b\b\b\b\b\b\b\b\b\b\b\b\b\b\b\b\b\b\b\b\b\b\b\b\b\b\b\b\b\b\b\b\b\b\b\b\b\b\b\b\b\b\b\b\b\b\b\b\b\b\b\b\b\b\b\b\b\b\b\b\b\b\b\b\b\b\b\b\b\b\b\b\r350/350 [==============================] - 19s 54ms/step - loss: 1.1216 - accuracy: 0.6144 - lr: 0.0010\n"
          ]
        },
        {
          "output_type": "execute_result",
          "data": {
            "text/plain": [
              "<keras.callbacks.History at 0x7f24c1cbbc70>"
            ]
          },
          "metadata": {},
          "execution_count": 10
        }
      ]
    },
    {
      "cell_type": "markdown",
      "source": [
        "## Define a Function for Confusion Matrix\n"
      ],
      "metadata": {
        "id": "aJUAuU21Nofh"
      }
    },
    {
      "cell_type": "code",
      "source": [
        "import matplotlib.pyplot as plt\n",
        "import sklearn\n",
        "from sklearn.metrics import confusion_matrix\n",
        "def plot_confusion_matrix (\n",
        "                            y_true,\n",
        "                            y_pred,\n",
        "                            classes,\n",
        "                            normalize=False,\n",
        "                            title=None,\n",
        "                            cmap=plt.cm.Blues):\n",
        "\n",
        "  if not title:\n",
        "    if normalize:\n",
        "      title = 'Normalized confusion matrix'\n",
        "    else:\n",
        "      title = 'Confusion matrix without normalization'\n",
        "\n",
        "  #compute confusion matrix\n",
        "  cm = confusion_matrix(y_true,y_pred)\n",
        "  if normalize:\n",
        "    cm = cm.astype('float') / cm.sum(axis=1)[:,np.newaxis]\n",
        "    print('normalized confusion matrix')\n",
        "  else:\n",
        "    print('Confusion matrix without normalization')\n",
        "  \n",
        "#print confusion matrix\n",
        "\n",
        "  fig , ax = plt.subplots(figsize=(7,7))\n",
        "  im = ax.imshow(cm, interpolation='nearest',cmap=cmap)\n",
        "  ax.figure.colorbar(im, ax=ax)\n",
        "  # we want to show all the ticks\n",
        "  ax.set(xticks=np.arange(cm.shape[1]),\n",
        "         yticks=np.arange(cm.shape[0]),\n",
        "         xticklabels=classes,\n",
        "         yticklabels=classes,\n",
        "         title=title,\n",
        "         ylabel = 'True Label',\n",
        "         xlabel = 'Predicted Label'\n",
        "         )\n",
        "  \n",
        "\n",
        "  plt.setp(ax.get_xticklabels(),rotation = 45,ha='right',rotation_mode='anchor')\n",
        "\n",
        "  # loop over data dimesions and create text annotations\n",
        "\n",
        "  fmt = '.2f' if normalize else 'd'\n",
        "  thresh = cm.max() / 2\n",
        "  for i in range(cm.shape[0]):\n",
        "    for j in range(cm.shape[1]):\n",
        "      ax.text(j,i,format(cm[i,j],fmt),\n",
        "              ha=\"center\",\n",
        "              va = \"center\",\n",
        "              color=\"white\" if cm[i,j] >  thresh else \"black\")\n",
        "  \n",
        "  fig.tight_layout()\n",
        "  return ax\n",
        "\n",
        "np.set_printoptions(precision=2)"
      ],
      "metadata": {
        "id": "8l-x8SQhg5Wd"
      },
      "execution_count": 17,
      "outputs": []
    },
    {
      "cell_type": "markdown",
      "source": [
        "## Making predictions \n"
      ],
      "metadata": {
        "id": "heJZSiB_Nj0M"
      }
    },
    {
      "cell_type": "code",
      "source": [
        "# Making predictions \n",
        "\n",
        "y_pred = np.argmax(AlexNet.predict(x_test), axis=-1)\n",
        "y_true = np.argmax(y_test,axis=1)\n",
        "\n",
        "# plotting the confusion matrix\n",
        "\n",
        "from sklearn.metrics import confusion_matrix\n",
        "confusion_mtx = confusion_matrix(y_true,y_pred)\n",
        "\n",
        "class_names = ['airplane', 'automobile', 'bird', 'cat', 'deer', 'dog', 'frog', 'horse', 'ship', 'truck']"
      ],
      "metadata": {
        "colab": {
          "base_uri": "https://localhost:8080/"
        },
        "id": "e61IaqMBGrhF",
        "outputId": "8cd75354-bbed-4766-cd12-723bfd68b55f"
      },
      "execution_count": 26,
      "outputs": [
        {
          "output_type": "stream",
          "name": "stdout",
          "text": [
            "313/313 [==============================] - 1s 3ms/step\n"
          ]
        }
      ]
    },
    {
      "cell_type": "markdown",
      "source": [
        "## plotting Non-Normalized confusion matrix\n"
      ],
      "metadata": {
        "id": "c1vh5hoJNgRY"
      }
    },
    {
      "cell_type": "code",
      "source": [
        "# plotting non-normalized confusion matrix\n",
        "\n",
        "plot_confusion_matrix(y_true,y_pred,classes=class_names,title='Confusion matrix, without normalization')"
      ],
      "metadata": {
        "colab": {
          "base_uri": "https://localhost:8080/",
          "height": 708
        },
        "id": "MAQsCeD5Mwv1",
        "outputId": "082f184b-4859-4502-8d39-0b5fa862d41c"
      },
      "execution_count": 25,
      "outputs": [
        {
          "output_type": "stream",
          "name": "stdout",
          "text": [
            "Confusion matrix without normalization\n"
          ]
        },
        {
          "output_type": "execute_result",
          "data": {
            "text/plain": [
              "<Axes: title={'center': 'Confusion matrix, without normalization'}, xlabel='Predicted Label', ylabel='True Label'>"
            ]
          },
          "metadata": {},
          "execution_count": 25
        },
        {
          "output_type": "display_data",
          "data": {
            "text/plain": [
              "<Figure size 700x700 with 2 Axes>"
            ],
            "image/png": "[encoded data removed]"
          },
          "metadata": {}
        }
      ]
    },
    {
      "cell_type": "markdown",
      "source": [
        "## plotting Normalized confusion matrix\n"
      ],
      "metadata": {
        "id": "F39kwqm7NWvI"
      }
    },
    {
      "cell_type": "code",
      "source": [
        "# Normalized Plot\n",
        "\n",
        "plot_confusion_matrix(y_true,y_pred,classes=class_names,\n",
        "                      normalize=True,\n",
        "                      title='Normalized confusion matrix')"
      ],
      "metadata": {
        "colab": {
          "base_uri": "https://localhost:8080/",
          "height": 708
        },
        "id": "0SmiX6kQg5ZI",
        "outputId": "97bff985-d4b2-4363-f184-8648f1aaa309"
      },
      "execution_count": 24,
      "outputs": [
        {
          "output_type": "stream",
          "name": "stdout",
          "text": [
            "normalized confusion matrix\n"
          ]
        },
        {
          "output_type": "execute_result",
          "data": {
            "text/plain": [
              "<Axes: title={'center': 'Normalized confusion matrix'}, xlabel='Predicted Label', ylabel='True Label'>"
            ]
          },
          "metadata": {},
          "execution_count": 24
        },
        {
          "output_type": "display_data",
          "data": {
            "text/plain": [
              "<Figure size 700x700 with 2 Axes>"
            ],
            "image/png": "[encoded data removed]"
          },
          "metadata": {}
        }
      ]
    },
    {
      "cell_type": "markdown",
      "source": [
        "# Prediction Accurracy"
      ],
      "metadata": {
        "id": "DDUwUaiQM9kB"
      }
    },
    {
      "cell_type": "code",
      "source": [
        "from sklearn.metrics import accuracy_score\n",
        "\n",
        "acc_score = accuracy_score(y_true,y_pred)\n",
        "print('Accuracy score is : ', acc_score)"
      ],
      "metadata": {
        "colab": {
          "base_uri": "https://localhost:8080/"
        },
        "id": "xyVRZ_UjMskF",
        "outputId": "20d8a7e1-d0d9-4205-fdb8-e8d68ced6a67"
      },
      "execution_count": 28,
      "outputs": [
        {
          "output_type": "stream",
          "name": "stdout",
          "text": [
            "Accuracy score is :  0.4217\n"
          ]
        }
      ]
    },
    {
      "cell_type": "code",
      "source": [
        "pip freeze requirements.txt "
      ],
      "metadata": {
        "colab": {
          "base_uri": "https://localhost:8080/"
        },
        "id": "hvjuAutiN-wn",
        "outputId": "e644a2a9-92e1-49d6-abfd-f7ab4eefd58c"
      },
      "execution_count": 30,
      "outputs": [
        {
          "output_type": "stream",
          "name": "stdout",
          "text": [
            "absl-py==1.4.0\n",
            "alabaster==0.7.13\n",
            "albumentations==1.2.1\n",
            "altair==4.2.2\n",
            "anyio==3.6.2\n",
            "appdirs==1.4.4\n",
            "argon2-cffi==21.3.0\n",
            "argon2-cffi-bindings==21.2.0\n",
            "arviz==0.15.1\n",
            "astropy==5.2.2\n",
            "astunparse==1.6.3\n",
            "attrs==22.2.0\n",
            "audioread==3.0.0\n",
            "autograd==1.5\n",
            "Babel==2.12.1\n",
            "backcall==0.2.0\n",
            "beautifulsoup4==4.11.2\n",
            "bleach==6.0.0\n",
            "blis==0.7.9\n",
            "blosc2==2.0.0\n",
            "bokeh==2.4.3\n",
            "branca==0.6.0\n",
            "CacheControl==0.12.11\n",
            "cached-property==1.5.2\n",
            "cachetools==5.3.0\n",
            "catalogue==2.0.8\n",
            "certifi==2022.12.7\n",
            "cffi==1.15.1\n",
            "chardet==4.0.0\n",
            "charset-normalizer==2.0.12\n",
            "chex==0.1.7\n",
            "click==8.1.3\n",
            "cloudpickle==2.2.1\n",
            "cmake==3.25.2\n",
            "cmdstanpy==1.1.0\n",
            "colorcet==3.0.1\n",
            "colorlover==0.3.0\n",
            "community==1.0.0b1\n",
            "confection==0.0.4\n",
            "cons==0.4.5\n",
            "contextlib2==0.6.0.post1\n",
            "contourpy==1.0.7\n",
            "convertdate==2.4.0\n",
            "cryptography==40.0.1\n",
            "cufflinks==0.17.3\n",
            "cupy-cuda11x==11.0.0\n",
            "cvxopt==1.3.0\n",
            "cvxpy==1.3.1\n",
            "cycler==0.11.0\n",
            "cymem==2.0.7\n",
            "Cython==0.29.34\n",
            "dask==2022.12.1\n",
            "datascience==0.17.6\n",
            "db-dtypes==1.1.1\n",
            "dbus-python==1.2.16\n",
            "debugpy==1.6.6\n",
            "decorator==4.4.2\n",
            "defusedxml==0.7.1\n",
            "distributed==2022.12.1\n",
            "dlib==19.24.1\n",
            "dm-tree==0.1.8\n",
            "docutils==0.16\n",
            "dopamine-rl==4.0.6\n",
            "earthengine-api==0.1.347\n",
            "easydict==1.10\n",
            "ecos==2.0.12\n",
            "editdistance==0.6.2\n",
            "en-core-web-sm @ https://github.com/explosion/spacy-models/releases/download/en_core_web_sm-3.5.0/en_core_web_sm-3.5.0-py3-none-any.whl\n",
            "entrypoints==0.4\n",
            "ephem==4.1.4\n",
            "et-xmlfile==1.1.0\n",
            "etils==1.1.1\n",
            "etuples==0.3.8\n",
            "exceptiongroup==1.1.1\n",
            "fastai==2.7.12\n",
            "fastcore==1.5.29\n",
            "fastdownload==0.0.7\n",
            "fastjsonschema==2.16.3\n",
            "fastprogress==1.0.3\n",
            "fastrlock==0.8.1\n",
            "filelock==3.10.7\n",
            "firebase-admin==5.3.0\n",
            "Flask==2.2.3\n",
            "flatbuffers==23.3.3\n",
            "flax==0.6.8\n",
            "folium==0.14.0\n",
            "fonttools==4.39.3\n",
            "frozendict==2.3.6\n",
            "fsspec==2023.3.0\n",
            "future==0.18.3\n",
            "gast==0.4.0\n",
            "GDAL==3.3.2\n",
            "gdown==4.6.6\n",
            "gensim==4.3.1\n",
            "geographiclib==2.0\n",
            "geopy==2.3.0\n",
            "gin-config==0.5.0\n",
            "glob2==0.7\n",
            "google==2.0.3\n",
            "google-api-core==2.11.0\n",
            "google-api-python-client==2.70.0\n",
            "google-auth==2.17.1\n",
            "google-auth-httplib2==0.1.0\n",
            "google-auth-oauthlib==1.0.0\n",
            "google-cloud-bigquery==3.4.2\n",
            "google-cloud-bigquery-storage==2.19.1\n",
            "google-cloud-core==2.3.2\n",
            "google-cloud-datastore==2.11.1\n",
            "google-cloud-firestore==2.7.3\n",
            "google-cloud-language==2.6.1\n",
            "google-cloud-storage==2.7.0\n",
            "google-cloud-translate==3.8.4\n",
            "google-colab @ file:///colabtools/dist/google-colab-1.0.0.tar.gz\n",
            "google-crc32c==1.5.0\n",
            "google-pasta==0.2.0\n",
            "google-resumable-media==2.4.1\n",
            "googleapis-common-protos==1.59.0\n",
            "googledrivedownloader==0.4\n",
            "graphviz==0.20.1\n",
            "greenlet==2.0.2\n",
            "grpcio==1.53.0\n",
            "grpcio-status==1.48.2\n",
            "gspread==3.4.2\n",
            "gspread-dataframe==3.0.8\n",
            "gym==0.25.2\n",
            "gym-notices==0.0.8\n",
            "h5netcdf==1.1.0\n",
            "h5py==3.8.0\n",
            "HeapDict==1.0.1\n",
            "hijri-converter==2.2.4\n",
            "holidays==0.22\n",
            "holoviews==1.15.4\n",
            "html5lib==1.1\n",
            "htmlmin==0.1.12\n",
            "httpimport==1.3.0\n",
            "httplib2==0.21.0\n",
            "humanize==4.6.0\n",
            "hyperopt==0.2.7\n",
            "idna==3.4\n",
            "ImageHash==4.3.1\n",
            "imageio==2.25.1\n",
            "imageio-ffmpeg==0.4.8\n",
            "imagesize==1.4.1\n",
            "imbalanced-learn==0.10.1\n",
            "imgaug==0.4.0\n",
            "importlib-metadata==6.1.0\n",
            "importlib-resources==5.12.0\n",
            "imutils==0.5.4\n",
            "inflect==6.0.2\n",
            "iniconfig==2.0.0\n",
            "intel-openmp==2023.1.0\n",
            "ipykernel==5.5.6\n",
            "ipython==7.34.0\n",
            "ipython-genutils==0.2.0\n",
            "ipython-sql==0.4.1\n",
            "ipywidgets==7.7.1\n",
            "itsdangerous==2.1.2\n",
            "jax==0.4.7\n",
            "jaxlib @ https://storage.googleapis.com/jax-releases/cuda11/jaxlib-0.4.7+cuda11.cudnn86-cp39-cp39-manylinux2014_x86_64.whl\n",
            "jieba==0.42.1\n",
            "Jinja2==3.1.2\n",
            "joblib==1.1.1\n",
            "jsonpickle==3.0.1\n",
            "jsonschema==4.3.3\n",
            "jupyter-client==6.1.12\n",
            "jupyter-console==6.1.0\n",
            "jupyter-server==1.23.6\n",
            "jupyter_core==5.3.0\n",
            "jupyterlab-pygments==0.2.2\n",
            "jupyterlab-widgets==3.0.7\n",
            "kaggle==1.5.13\n",
            "keras==2.12.0\n",
            "keras-vis==0.4.1\n",
            "kiwisolver==1.4.4\n",
            "korean-lunar-calendar==0.3.1\n",
            "langcodes==3.3.0\n",
            "lazy_loader==0.2\n",
            "libclang==16.0.0\n",
            "librosa==0.10.0.post2\n",
            "lightgbm==3.3.5\n",
            "lit==16.0.0\n",
            "llvmlite==0.39.1\n",
            "locket==1.0.0\n",
            "logical-unification==0.4.5\n",
            "LunarCalendar==0.0.9\n",
            "lxml==4.9.2\n",
            "Markdown==3.4.3\n",
            "markdown-it-py==2.2.0\n",
            "MarkupSafe==2.1.2\n",
            "matplotlib==3.7.1\n",
            "matplotlib-inline==0.1.6\n",
            "matplotlib-venn==0.11.9\n",
            "mdurl==0.1.2\n",
            "miniKanren==1.0.3\n",
            "missingno==0.5.2\n",
            "mistune==0.8.4\n",
            "mizani==0.8.1\n",
            "mkl==2019.0\n",
            "ml-dtypes==0.0.4\n",
            "mlxtend==0.14.0\n",
            "more-itertools==9.1.0\n",
            "moviepy==1.0.3\n",
            "mpmath==1.3.0\n",
            "msgpack==1.0.5\n",
            "multimethod==1.9.1\n",
            "multipledispatch==0.6.0\n",
            "multitasking==0.0.11\n",
            "murmurhash==1.0.9\n",
            "music21==8.1.0\n",
            "natsort==8.3.1\n",
            "nbclient==0.7.3\n",
            "nbconvert==6.5.4\n",
            "nbformat==5.8.0\n",
            "nest-asyncio==1.5.6\n",
            "networkx==3.0\n",
            "nibabel==3.0.2\n",
            "nltk==3.8.1\n",
            "notebook==6.4.8\n",
            "numba==0.56.4\n",
            "numexpr==2.8.4\n",
            "numpy==1.22.4\n",
            "oauth2client==4.1.3\n",
            "oauthlib==3.2.2\n",
            "opencv-contrib-python==4.7.0.72\n",
            "opencv-python==4.7.0.72\n",
            "opencv-python-headless==4.7.0.72\n",
            "openpyxl==3.0.10\n",
            "opt-einsum==3.3.0\n",
            "optax==0.1.4\n",
            "orbax==0.1.7\n",
            "osqp==0.6.2.post0\n",
            "packaging==23.0\n",
            "palettable==3.3.0\n",
            "pandas==1.4.4\n",
            "pandas-datareader==0.10.0\n",
            "pandas-gbq==0.17.9\n",
            "pandas-profiling==3.2.0\n",
            "pandocfilters==1.5.0\n",
            "panel==0.14.4\n",
            "param==1.13.0\n",
            "parso==0.8.3\n",
            "partd==1.3.0\n",
            "pathlib==1.0.1\n",
            "pathy==0.10.1\n",
            "patsy==0.5.3\n",
            "pep517==0.13.0\n",
            "pexpect==4.8.0\n",
            "phik==0.12.3\n",
            "pickleshare==0.7.5\n",
            "Pillow==8.4.0\n",
            "pip-tools==6.6.2\n",
            "platformdirs==3.2.0\n",
            "plotly==5.13.1\n",
            "plotnine==0.10.1\n",
            "pluggy==1.0.0\n",
            "pooch==1.6.0\n",
            "portpicker==1.3.9\n",
            "prefetch-generator==1.0.3\n",
            "preshed==3.0.8\n",
            "prettytable==0.7.2\n",
            "proglog==0.1.10\n",
            "progressbar2==4.2.0\n",
            "prometheus-client==0.16.0\n",
            "promise==2.3\n",
            "prompt-toolkit==3.0.38\n",
            "prophet==1.1.2\n",
            "proto-plus==1.22.2\n",
            "protobuf==3.20.3\n",
            "psutil==5.9.4\n",
            "psycopg2==2.9.6\n",
            "ptyprocess==0.7.0\n",
            "py-cpuinfo==9.0.0\n",
            "py4j==0.10.9.7\n",
            "pyarrow==9.0.0\n",
            "pyasn1==0.4.8\n",
            "pyasn1-modules==0.2.8\n",
            "pycocotools==2.0.6\n",
            "pycparser==2.21\n",
            "pyct==0.5.0\n",
            "pydantic==1.10.7\n",
            "pydata-google-auth==1.7.0\n",
            "pydot==1.4.2\n",
            "pydot-ng==2.0.0\n",
            "pydotplus==2.0.2\n",
            "PyDrive==1.3.1\n",
            "pyerfa==2.0.0.3\n",
            "pygame==2.3.0\n",
            "Pygments==2.14.0\n",
            "PyGObject==3.36.0\n",
            "pymc==5.1.2\n",
            "PyMeeus==0.5.12\n",
            "pymystem3==0.2.0\n",
            "PyOpenGL==3.1.6\n",
            "pyparsing==3.0.9\n",
            "pyrsistent==0.19.3\n",
            "PySocks==1.7.1\n",
            "pytensor==2.10.1\n",
            "pytest==7.2.2\n",
            "python-apt==0.0.0\n",
            "python-dateutil==2.8.2\n",
            "python-louvain==0.16\n",
            "python-slugify==8.0.1\n",
            "python-utils==3.5.2\n",
            "pytz==2022.7.1\n",
            "pytz-deprecation-shim==0.1.0.post0\n",
            "pyviz-comms==2.2.1\n",
            "PyWavelets==1.4.1\n",
            "PyYAML==6.0\n",
            "pyzmq==23.2.1\n",
            "qdldl==0.1.5.post3\n",
            "qudida==0.0.4\n",
            "regex==2022.10.31\n",
            "requests==2.27.1\n",
            "requests-oauthlib==1.3.1\n",
            "requests-unixsocket==0.2.0\n",
            "rich==13.3.3\n",
            "rpy2==3.5.5\n",
            "rsa==4.9\n",
            "scikit-image==0.19.3\n",
            "scikit-learn==1.2.2\n",
            "scipy==1.10.1\n",
            "scs==3.2.2\n",
            "seaborn==0.12.2\n",
            "Send2Trash==1.8.0\n",
            "shapely==2.0.1\n",
            "six==1.16.0\n",
            "sklearn-pandas==2.2.0\n",
            "smart-open==6.3.0\n",
            "sniffio==1.3.0\n",
            "snowballstemmer==2.2.0\n",
            "sortedcontainers==2.4.0\n",
            "soundfile==0.12.1\n",
            "soupsieve==2.4\n",
            "soxr==0.3.4\n",
            "spacy==3.5.1\n",
            "spacy-legacy==3.0.12\n",
            "spacy-loggers==1.0.4\n",
            "Sphinx==3.5.4\n",
            "sphinxcontrib-applehelp==1.0.4\n",
            "sphinxcontrib-devhelp==1.0.2\n",
            "sphinxcontrib-htmlhelp==2.0.1\n",
            "sphinxcontrib-jsmath==1.0.1\n",
            "sphinxcontrib-qthelp==1.0.3\n",
            "sphinxcontrib-serializinghtml==1.1.5\n",
            "SQLAlchemy==1.4.47\n",
            "sqlparse==0.4.3\n",
            "srsly==2.4.6\n",
            "statsmodels==0.13.5\n",
            "sympy==1.11.1\n",
            "tables==3.8.0\n",
            "tabulate==0.8.10\n",
            "tangled-up-in-unicode==0.2.0\n",
            "tblib==1.7.0\n",
            "tenacity==8.2.2\n",
            "tensorboard==2.12.1\n",
            "tensorboard-data-server==0.7.0\n",
            "tensorboard-plugin-wit==1.8.1\n",
            "tensorflow==2.12.0\n",
            "tensorflow-datasets==4.8.3\n",
            "tensorflow-estimator==2.12.0\n",
            "tensorflow-gcs-config==2.12.0\n",
            "tensorflow-hub==0.13.0\n",
            "tensorflow-io-gcs-filesystem==0.32.0\n",
            "tensorflow-metadata==1.13.0\n",
            "tensorflow-probability==0.19.0\n",
            "tensorstore==0.1.35\n",
            "termcolor==2.2.0\n",
            "terminado==0.17.1\n",
            "text-unidecode==1.3\n",
            "textblob==0.17.1\n",
            "tf-slim==1.1.0\n",
            "thinc==8.1.9\n",
            "threadpoolctl==3.1.0\n",
            "tifffile==2023.3.21\n",
            "tinycss2==1.2.1\n",
            "toml==0.10.2\n",
            "tomli==2.0.1\n",
            "toolz==0.12.0\n",
            "torch @ https://download.pytorch.org/whl/cu118/torch-2.0.0%2Bcu118-cp39-cp39-linux_x86_64.whl\n",
            "torchaudio @ https://download.pytorch.org/whl/cu118/torchaudio-2.0.1%2Bcu118-cp39-cp39-linux_x86_64.whl\n",
            "torchdata==0.6.0\n",
            "torchsummary==1.5.1\n",
            "torchtext==0.15.1\n",
            "torchvision @ https://download.pytorch.org/whl/cu118/torchvision-0.15.1%2Bcu118-cp39-cp39-linux_x86_64.whl\n",
            "tornado==6.2\n",
            "tqdm==4.65.0\n",
            "traitlets==5.7.1\n",
            "triton==2.0.0\n",
            "tweepy==4.13.0\n",
            "typer==0.7.0\n",
            "typing_extensions==4.5.0\n",
            "tzdata==2023.3\n",
            "tzlocal==4.3\n",
            "uritemplate==4.1.1\n",
            "urllib3==1.26.15\n",
            "vega-datasets==0.9.0\n",
            "visions==0.7.4\n",
            "wasabi==1.1.1\n",
            "wcwidth==0.2.6\n",
            "webcolors==1.13\n",
            "webencodings==0.5.1\n",
            "websocket-client==1.5.1\n",
            "Werkzeug==2.2.3\n",
            "widgetsnbextension==3.6.4\n",
            "wordcloud==1.8.2.2\n",
            "wrapt==1.14.1\n",
            "xarray==2022.12.0\n",
            "xarray-einstats==0.5.1\n",
            "xgboost==1.7.5\n",
            "xlrd==2.0.1\n",
            "yellowbrick==1.5\n",
            "yfinance==0.2.14\n",
            "zict==2.2.0\n",
            "zipp==3.15.0\n"
          ]
        }
      ]
    },
    {
      "cell_type": "code",
      "source": [],
      "metadata": {
        "id": "keYh-wbNOA3k"
      },
      "execution_count": null,
      "outputs": []
    }
  ]
}